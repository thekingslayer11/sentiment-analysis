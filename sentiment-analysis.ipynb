{
 "cells": [
  {
   "cell_type": "markdown",
   "id": "ca1b065a",
   "metadata": {
    "papermill": {
     "duration": 0.007227,
     "end_time": "2023-01-09T11:19:38.311868",
     "exception": false,
     "start_time": "2023-01-09T11:19:38.304641",
     "status": "completed"
    },
    "tags": []
   },
   "source": [
    "### Importing Libraries"
   ]
  },
  {
   "cell_type": "code",
   "execution_count": 2,
   "id": "3a980d92",
   "metadata": {
    "_cell_guid": "b1076dfc-b9ad-4769-8c92-a6c4dae69d19",
    "_uuid": "8f2839f25d086af736a60e9eeb907d3b93b6e0e5",
    "execution": {
     "iopub.execute_input": "2023-01-09T11:19:38.329148Z",
     "iopub.status.busy": "2023-01-09T11:19:38.328675Z",
     "iopub.status.idle": "2023-01-09T11:19:40.393798Z",
     "shell.execute_reply": "2023-01-09T11:19:40.392368Z"
    },
    "papermill": {
     "duration": 2.078333,
     "end_time": "2023-01-09T11:19:40.397732",
     "exception": false,
     "start_time": "2023-01-09T11:19:38.319399",
     "status": "completed"
    },
    "tags": []
   },
   "outputs": [
    {
     "name": "stderr",
     "output_type": "stream",
     "text": [
      "[nltk_data] Downloading package punkt to\n",
      "[nltk_data]     C:\\Users\\ashif\\AppData\\Roaming\\nltk_data...\n",
      "[nltk_data]   Package punkt is already up-to-date!\n"
     ]
    }
   ],
   "source": [
    "import numpy as np\n",
    "import pandas as pd\n",
    "\n",
    "import nltk\n",
    "nltk.download('punkt')\n",
    "from nltk.tokenize import word_tokenize\n",
    "from nltk.corpus import stopwords\n",
    "\n",
    "import matplotlib.pyplot as plt\n",
    "\n",
    "import re\n",
    "import string"
   ]
  },
  {
   "cell_type": "markdown",
   "id": "d59d2ac7",
   "metadata": {
    "papermill": {
     "duration": 0.007412,
     "end_time": "2023-01-09T11:19:40.412854",
     "exception": false,
     "start_time": "2023-01-09T11:19:40.405442",
     "status": "completed"
    },
    "tags": []
   },
   "source": [
    "### Loading and Pre-processing data"
   ]
  },
  {
   "cell_type": "code",
   "execution_count": 3,
   "id": "85441514",
   "metadata": {
    "execution": {
     "iopub.execute_input": "2023-01-09T11:19:40.430567Z",
     "iopub.status.busy": "2023-01-09T11:19:40.430135Z",
     "iopub.status.idle": "2023-01-09T11:19:40.649138Z",
     "shell.execute_reply": "2023-01-09T11:19:40.647736Z"
    },
    "papermill": {
     "duration": 0.231618,
     "end_time": "2023-01-09T11:19:40.652057",
     "exception": false,
     "start_time": "2023-01-09T11:19:40.420439",
     "status": "completed"
    },
    "tags": []
   },
   "outputs": [
    {
     "data": {
      "text/html": [
       "<div>\n",
       "<style scoped>\n",
       "    .dataframe tbody tr th:only-of-type {\n",
       "        vertical-align: middle;\n",
       "    }\n",
       "\n",
       "    .dataframe tbody tr th {\n",
       "        vertical-align: top;\n",
       "    }\n",
       "\n",
       "    .dataframe thead th {\n",
       "        text-align: right;\n",
       "    }\n",
       "</style>\n",
       "<table border=\"1\" class=\"dataframe\">\n",
       "  <thead>\n",
       "    <tr style=\"text-align: right;\">\n",
       "      <th></th>\n",
       "      <th>Unnamed: 0</th>\n",
       "      <th>Date Created</th>\n",
       "      <th>Number of Likes</th>\n",
       "      <th>Source of Tweet</th>\n",
       "      <th>Tweet</th>\n",
       "      <th>Sentiment</th>\n",
       "    </tr>\n",
       "  </thead>\n",
       "  <tbody>\n",
       "    <tr>\n",
       "      <th>0</th>\n",
       "      <td>0</td>\n",
       "      <td>2022-11-20 23:59:21+00:00</td>\n",
       "      <td>4</td>\n",
       "      <td>Twitter Web App</td>\n",
       "      <td>What are we drinking today @TucanTribe \\n@MadB...</td>\n",
       "      <td>neutral</td>\n",
       "    </tr>\n",
       "    <tr>\n",
       "      <th>1</th>\n",
       "      <td>1</td>\n",
       "      <td>2022-11-20 23:59:01+00:00</td>\n",
       "      <td>3</td>\n",
       "      <td>Twitter for iPhone</td>\n",
       "      <td>Amazing @CanadaSoccerEN  #WorldCup2022 launch ...</td>\n",
       "      <td>positive</td>\n",
       "    </tr>\n",
       "    <tr>\n",
       "      <th>2</th>\n",
       "      <td>2</td>\n",
       "      <td>2022-11-20 23:58:41+00:00</td>\n",
       "      <td>1</td>\n",
       "      <td>Twitter for iPhone</td>\n",
       "      <td>Worth reading while watching #WorldCup2022 htt...</td>\n",
       "      <td>positive</td>\n",
       "    </tr>\n",
       "    <tr>\n",
       "      <th>3</th>\n",
       "      <td>3</td>\n",
       "      <td>2022-11-20 23:58:33+00:00</td>\n",
       "      <td>1</td>\n",
       "      <td>Twitter Web App</td>\n",
       "      <td>Golden Maknae shinning bright\\n\\nhttps://t.co/...</td>\n",
       "      <td>positive</td>\n",
       "    </tr>\n",
       "    <tr>\n",
       "      <th>4</th>\n",
       "      <td>4</td>\n",
       "      <td>2022-11-20 23:58:28+00:00</td>\n",
       "      <td>0</td>\n",
       "      <td>Twitter for Android</td>\n",
       "      <td>If the BBC cares so much about human rights, h...</td>\n",
       "      <td>negative</td>\n",
       "    </tr>\n",
       "  </tbody>\n",
       "</table>\n",
       "</div>"
      ],
      "text/plain": [
       "   Unnamed: 0               Date Created  Number of Likes  \\\n",
       "0           0  2022-11-20 23:59:21+00:00                4   \n",
       "1           1  2022-11-20 23:59:01+00:00                3   \n",
       "2           2  2022-11-20 23:58:41+00:00                1   \n",
       "3           3  2022-11-20 23:58:33+00:00                1   \n",
       "4           4  2022-11-20 23:58:28+00:00                0   \n",
       "\n",
       "       Source of Tweet                                              Tweet  \\\n",
       "0      Twitter Web App  What are we drinking today @TucanTribe \\n@MadB...   \n",
       "1   Twitter for iPhone  Amazing @CanadaSoccerEN  #WorldCup2022 launch ...   \n",
       "2   Twitter for iPhone  Worth reading while watching #WorldCup2022 htt...   \n",
       "3      Twitter Web App  Golden Maknae shinning bright\\n\\nhttps://t.co/...   \n",
       "4  Twitter for Android  If the BBC cares so much about human rights, h...   \n",
       "\n",
       "  Sentiment  \n",
       "0   neutral  \n",
       "1  positive  \n",
       "2  positive  \n",
       "3  positive  \n",
       "4  negative  "
      ]
     },
     "execution_count": 3,
     "metadata": {},
     "output_type": "execute_result"
    }
   ],
   "source": [
    "#loading the dataset\n",
    "df_tweets = pd.read_csv(\"fifa_world_cup_2022_tweets.csv\")\n",
    "\n",
    "#Displaying first 5 rows of dataset\n",
    "df_tweets.head(5)"
   ]
  },
  {
   "cell_type": "code",
   "execution_count": 4,
   "id": "e85f8bb0",
   "metadata": {
    "execution": {
     "iopub.execute_input": "2023-01-09T11:19:40.671031Z",
     "iopub.status.busy": "2023-01-09T11:19:40.670614Z",
     "iopub.status.idle": "2023-01-09T11:19:40.677864Z",
     "shell.execute_reply": "2023-01-09T11:19:40.676378Z"
    },
    "papermill": {
     "duration": 0.020156,
     "end_time": "2023-01-09T11:19:40.680539",
     "exception": false,
     "start_time": "2023-01-09T11:19:40.660383",
     "status": "completed"
    },
    "tags": []
   },
   "outputs": [
    {
     "name": "stdout",
     "output_type": "stream",
     "text": [
      "Index(['Unnamed: 0', 'Date Created', 'Number of Likes', 'Source of Tweet',\n",
      "       'Tweet', 'Sentiment'],\n",
      "      dtype='object')\n"
     ]
    }
   ],
   "source": [
    "#All columns present in the dataset\n",
    "print(df_tweets.columns)"
   ]
  },
  {
   "cell_type": "code",
   "execution_count": 5,
   "id": "6455662b",
   "metadata": {
    "execution": {
     "iopub.execute_input": "2023-01-09T11:19:40.699726Z",
     "iopub.status.busy": "2023-01-09T11:19:40.699291Z",
     "iopub.status.idle": "2023-01-09T11:19:40.718148Z",
     "shell.execute_reply": "2023-01-09T11:19:40.716767Z"
    },
    "papermill": {
     "duration": 0.032168,
     "end_time": "2023-01-09T11:19:40.720688",
     "exception": false,
     "start_time": "2023-01-09T11:19:40.688520",
     "status": "completed"
    },
    "tags": []
   },
   "outputs": [
    {
     "data": {
      "text/html": [
       "<div>\n",
       "<style scoped>\n",
       "    .dataframe tbody tr th:only-of-type {\n",
       "        vertical-align: middle;\n",
       "    }\n",
       "\n",
       "    .dataframe tbody tr th {\n",
       "        vertical-align: top;\n",
       "    }\n",
       "\n",
       "    .dataframe thead th {\n",
       "        text-align: right;\n",
       "    }\n",
       "</style>\n",
       "<table border=\"1\" class=\"dataframe\">\n",
       "  <thead>\n",
       "    <tr style=\"text-align: right;\">\n",
       "      <th></th>\n",
       "      <th>Tweet</th>\n",
       "      <th>Sentiment</th>\n",
       "    </tr>\n",
       "  </thead>\n",
       "  <tbody>\n",
       "    <tr>\n",
       "      <th>0</th>\n",
       "      <td>What are we drinking today @TucanTribe \\n@MadB...</td>\n",
       "      <td>neutral</td>\n",
       "    </tr>\n",
       "    <tr>\n",
       "      <th>1</th>\n",
       "      <td>Amazing @CanadaSoccerEN  #WorldCup2022 launch ...</td>\n",
       "      <td>positive</td>\n",
       "    </tr>\n",
       "    <tr>\n",
       "      <th>2</th>\n",
       "      <td>Worth reading while watching #WorldCup2022 htt...</td>\n",
       "      <td>positive</td>\n",
       "    </tr>\n",
       "    <tr>\n",
       "      <th>3</th>\n",
       "      <td>Golden Maknae shinning bright\\n\\nhttps://t.co/...</td>\n",
       "      <td>positive</td>\n",
       "    </tr>\n",
       "    <tr>\n",
       "      <th>4</th>\n",
       "      <td>If the BBC cares so much about human rights, h...</td>\n",
       "      <td>negative</td>\n",
       "    </tr>\n",
       "  </tbody>\n",
       "</table>\n",
       "</div>"
      ],
      "text/plain": [
       "                                               Tweet Sentiment\n",
       "0  What are we drinking today @TucanTribe \\n@MadB...   neutral\n",
       "1  Amazing @CanadaSoccerEN  #WorldCup2022 launch ...  positive\n",
       "2  Worth reading while watching #WorldCup2022 htt...  positive\n",
       "3  Golden Maknae shinning bright\\n\\nhttps://t.co/...  positive\n",
       "4  If the BBC cares so much about human rights, h...  negative"
      ]
     },
     "execution_count": 5,
     "metadata": {},
     "output_type": "execute_result"
    }
   ],
   "source": [
    "#for this notebook, we are only using the tweet itself to do sentiment analysis.\n",
    "#hence dropping all other columns except Tweets and Sentiment\n",
    "df_tweets.drop(['Unnamed: 0','Date Created','Number of Likes','Source of Tweet'],axis=1,inplace=True)\n",
    "\n",
    "#confirming changes\n",
    "df_tweets.head(5)"
   ]
  },
  {
   "cell_type": "code",
   "execution_count": 6,
   "id": "d98edffb",
   "metadata": {
    "execution": {
     "iopub.execute_input": "2023-01-09T11:19:40.740054Z",
     "iopub.status.busy": "2023-01-09T11:19:40.739668Z",
     "iopub.status.idle": "2023-01-09T11:19:40.761693Z",
     "shell.execute_reply": "2023-01-09T11:19:40.760093Z"
    },
    "papermill": {
     "duration": 0.035431,
     "end_time": "2023-01-09T11:19:40.764382",
     "exception": false,
     "start_time": "2023-01-09T11:19:40.728951",
     "status": "completed"
    },
    "tags": []
   },
   "outputs": [
    {
     "data": {
      "text/html": [
       "<div>\n",
       "<style scoped>\n",
       "    .dataframe tbody tr th:only-of-type {\n",
       "        vertical-align: middle;\n",
       "    }\n",
       "\n",
       "    .dataframe tbody tr th {\n",
       "        vertical-align: top;\n",
       "    }\n",
       "\n",
       "    .dataframe thead th {\n",
       "        text-align: right;\n",
       "    }\n",
       "</style>\n",
       "<table border=\"1\" class=\"dataframe\">\n",
       "  <thead>\n",
       "    <tr style=\"text-align: right;\">\n",
       "      <th></th>\n",
       "      <th>Tweet</th>\n",
       "      <th>class</th>\n",
       "    </tr>\n",
       "  </thead>\n",
       "  <tbody>\n",
       "    <tr>\n",
       "      <th>0</th>\n",
       "      <td>What are we drinking today @TucanTribe \\n@MadB...</td>\n",
       "      <td>1</td>\n",
       "    </tr>\n",
       "    <tr>\n",
       "      <th>1</th>\n",
       "      <td>Amazing @CanadaSoccerEN  #WorldCup2022 launch ...</td>\n",
       "      <td>2</td>\n",
       "    </tr>\n",
       "    <tr>\n",
       "      <th>2</th>\n",
       "      <td>Worth reading while watching #WorldCup2022 htt...</td>\n",
       "      <td>2</td>\n",
       "    </tr>\n",
       "    <tr>\n",
       "      <th>3</th>\n",
       "      <td>Golden Maknae shinning bright\\n\\nhttps://t.co/...</td>\n",
       "      <td>2</td>\n",
       "    </tr>\n",
       "    <tr>\n",
       "      <th>4</th>\n",
       "      <td>If the BBC cares so much about human rights, h...</td>\n",
       "      <td>0</td>\n",
       "    </tr>\n",
       "  </tbody>\n",
       "</table>\n",
       "</div>"
      ],
      "text/plain": [
       "                                               Tweet  class\n",
       "0  What are we drinking today @TucanTribe \\n@MadB...      1\n",
       "1  Amazing @CanadaSoccerEN  #WorldCup2022 launch ...      2\n",
       "2  Worth reading while watching #WorldCup2022 htt...      2\n",
       "3  Golden Maknae shinning bright\\n\\nhttps://t.co/...      2\n",
       "4  If the BBC cares so much about human rights, h...      0"
      ]
     },
     "execution_count": 6,
     "metadata": {},
     "output_type": "execute_result"
    }
   ],
   "source": [
    "# Create a dictionary to map Sentiment to a numerical value.\n",
    "class_map = {\n",
    "    \"negative\": 0,\n",
    "    \"neutral\" : 1,\n",
    "    \"positive\": 2\n",
    "}\n",
    "\n",
    "#New clumn class for the mapped data\n",
    "df_tweets['class'] = df_tweets.Sentiment.map(class_map)\n",
    "\n",
    "#Dropping sentiment Column\n",
    "df_tweets.drop(columns = ['Sentiment'], inplace = True)\n",
    "\n",
    "#confirming changes\n",
    "df_tweets.head(5)"
   ]
  },
  {
   "cell_type": "code",
   "execution_count": 7,
   "id": "fced9592",
   "metadata": {
    "_kg_hide-input": false,
    "execution": {
     "iopub.execute_input": "2023-01-09T11:19:40.783619Z",
     "iopub.status.busy": "2023-01-09T11:19:40.783162Z",
     "iopub.status.idle": "2023-01-09T11:19:40.801784Z",
     "shell.execute_reply": "2023-01-09T11:19:40.800489Z"
    },
    "papermill": {
     "duration": 0.031843,
     "end_time": "2023-01-09T11:19:40.804569",
     "exception": false,
     "start_time": "2023-01-09T11:19:40.772726",
     "status": "completed"
    },
    "tags": []
   },
   "outputs": [],
   "source": [
    "# List of Contractions to be removed\n",
    "contractions = {\n",
    "    \"a'ight\":\"alright\",\n",
    "    \"ain't\":\"are not\",\n",
    "    \"amn't\":\"am not\",\n",
    "    \"aren't\":\"are not\",\n",
    "    \"can't\":\"cannot\",\n",
    "    \"'cause\": \"because\",\n",
    "    \"could've\":\"could have\",\n",
    "    \"couldn't\":\"could not\",\n",
    "    \"couldn't've\":\"could not have\",\n",
    "    \"daren't\":\"dare not\",\n",
    "    \"daresn't\":\"dare not\",\n",
    "    \"dasn't\":\"dare not\",\n",
    "    \"didn't\":\"did not\",\n",
    "    \"doesn't\":\"does not\",\n",
    "    \"don't\":\"do not\",\n",
    "    \"everybody's\":\"everybody is\",\n",
    "    \"everyone's\":\"everyone is\",\n",
    "    \"giv'n\":\"given\",\n",
    "    \"gonna\":\"going to\",\n",
    "    \"gon't\":\"go not\", \n",
    "    \"gotta\":\"got to\",\n",
    "    \"hadn't\":\"had not\",\n",
    "    \"had've\":\"had have\",\n",
    "    \"hasn't\":\"has not\",\n",
    "    \"haven't\":\"have not\",\n",
    "    \"he'd\":\"he had\", \n",
    "    \"he'll\":\"he will\",\n",
    "    \"he's\":\"he is\",\n",
    "    \"here's\":\"here is\",\n",
    "    \"how'd\":\"how did\",\n",
    "    \"how'll\":\"how will\",\n",
    "    \"how're\":\"how are\",\n",
    "    \"how's\":\"how is\",\n",
    "    \"I'd\":\"I had\",\n",
    "    \"I'd've\":\"I would have\",\n",
    "    \"I'd'nt\":\"I would not\",\n",
    "    \"I'd'nt've\":\"I would not have\",\n",
    "    \"I'll\":\"I will\",\n",
    "    \"I'm\":\"I am\",\n",
    "    \"I've\":\"I have\",\n",
    "    \"isn't\":\"is not\",\n",
    "    \"it'd\":\"it would\",\n",
    "    \"it'll\":\"it will\",\n",
    "    \"it's\":\"it is\",\n",
    "    \"let's\":\"let us\",\n",
    "    \"ma'am\":\"madam\",\n",
    "    \"mayn't\":\"may not\",\n",
    "    \"may've\":\"may have\",\n",
    "    \"mightn't\":\"might not\",\n",
    "    \"might've\":\"might have\",\n",
    "    \"mustn't\":\"must not\",\n",
    "    \"mustn't've\":\"must not have\",\n",
    "    \"must've\":\"must have\",\n",
    "    \"needn't\":\"need not\",\n",
    "    \"needn't've\":\"need not have\",\n",
    "    \"o'clock\":\"of the clock\",\n",
    "    \"oughtn't\":\"ought not\",\n",
    "    \"oughtn't've\":\"ought not have\",\n",
    "    \"shan't\":\"shall not\",\n",
    "    \"she'd\":\"she would\",\n",
    "    \"she'll\":\"she will\",\n",
    "    \"she's\":\"she is\",\n",
    "    \"should've\":\"should have\",\n",
    "    \"shouldn't\":\"should not\",\n",
    "    \"shouldn't've\":\"should not have\",\n",
    "    \"somebody's\":\"somebody is\",\n",
    "    \"someone's\":\"someone is\",\n",
    "    \"something's\":\"something is\",\n",
    "    \"so're\":\"so are\",\n",
    "    \"so’s\":\"so is\",\n",
    "    \"so’ve\":\"so have\",\n",
    "    \"that'll\":\"that will\",\n",
    "    \"that're\":\"that are\",\n",
    "    \"that's\":\"that is\",\n",
    "    \"that'd\":\"that would\",\n",
    "    \"there'd\":\"there would\",\n",
    "    \"there'll\":\"there will\",\n",
    "    \"there're\":\"there are\",\n",
    "    \"there's\":\"there is\",\n",
    "    \"these're\":\"these are\",\n",
    "    \"these've\":\"these have\",\n",
    "    \"they'd\":\"they would\",\n",
    "    \"they'll\":\"they will\",\n",
    "    \"they're\":\"they are\",\n",
    "    \"they've\":\"they have\",\n",
    "    \"this's\":\"this is\",\n",
    "    \"those're\":\"those are\",\n",
    "    \"those've\":\"those have\",\n",
    "    \"to've\":\"to have\",\n",
    "    \"wasn't\":\"was not\",\n",
    "    \"we'd\":\"we would\",\n",
    "    \"we'd've\":\"we would have\",\n",
    "    \"we'll\":\"we will\",\n",
    "    \"we're\":\"we are\",\n",
    "    \"we've\":\"we have\",\n",
    "    \"weren't\":\"were not\",\n",
    "    \"what'd\":\"what did\",\n",
    "    \"what'll\":\"what will\",\n",
    "    \"what're\":\"what are\",\n",
    "    \"what's\":\"what is\",\n",
    "    \"what've\":\"what have\",\n",
    "    \"when's\":\"when is\",\n",
    "    \"where'd\":\"where did\",\n",
    "    \"where'll\":\"where will\",\n",
    "    \"where're\":\"where are\",\n",
    "    \"where's\":\"where is\",\n",
    "    \"where've\":\"where have\",\n",
    "    \"which'd\":\"which would\",\n",
    "    \"which'll\":\"which will\",\n",
    "    \"which're\":\"which are\",\n",
    "    \"which's\":\"which is\",\n",
    "    \"which've\":\"which have\",\n",
    "    \"who'd\":\"who would\",\n",
    "    \"who'd've\":\"who would have\",\n",
    "    \"who'll\":\"who will\",\n",
    "    \"who're\":\"who are\",\n",
    "    \"who's\":\"who is\",\n",
    "    \"who've\":\"who have\",\n",
    "    \"why'd\":\"why did\",\n",
    "    \"why're\":\"why are\",\n",
    "    \"why's\":\"why is\",\n",
    "    \"won't\":\"will not\",\n",
    "    \"would've\":\"would have\",\n",
    "    \"wouldn't\":\"would not\",\n",
    "    \"wouldn't've\":\"would not have\",\n",
    "    \"y'at\":\"you at\",\n",
    "    \"yes’m\":\"yes madam\",\n",
    "    \"you'd\":\"you would\",\n",
    "    \"you'll\":\"you will\",\n",
    "    \"you're\":\"you are\",\n",
    "    \"you've\":\"you have\"\n",
    "}"
   ]
  },
  {
   "cell_type": "code",
   "execution_count": 8,
   "id": "4a877c87",
   "metadata": {
    "execution": {
     "iopub.execute_input": "2023-01-09T11:19:40.823821Z",
     "iopub.status.busy": "2023-01-09T11:19:40.823414Z",
     "iopub.status.idle": "2023-01-09T11:19:40.850727Z",
     "shell.execute_reply": "2023-01-09T11:19:40.849652Z"
    },
    "papermill": {
     "duration": 0.040422,
     "end_time": "2023-01-09T11:19:40.853559",
     "exception": false,
     "start_time": "2023-01-09T11:19:40.813137",
     "status": "completed"
    },
    "tags": []
   },
   "outputs": [],
   "source": [
    "# List of abbreviations to be replaced\n",
    "abbreviations = {\n",
    "    \"aamof\" : \"as a matter of fact\",\n",
    "    \"acct\" : \"account\",\n",
    "    \"adih\" : \"another day in hell\",\n",
    "    \"afaic\" : \"as far as i am concerned\",\n",
    "    \"afaict\" : \"as far as i can tell\",\n",
    "    \"afaik\" : \"as far as i know\",\n",
    "    \"afair\" : \"as far as i remember\",\n",
    "    \"afk\" : \"away from keyboard\",\n",
    "    \"app\" : \"application\",\n",
    "    \"approx\" : \"approximately\",\n",
    "    \"apps\" : \"applications\",\n",
    "    \"asap\" : \"as soon as possible\",\n",
    "    \"asl\" : \"age, sex, location\",\n",
    "    \"atk\" : \"at the keyboard\",\n",
    "    \"ave.\" : \"avenue\",\n",
    "    \"aymm\" : \"are you my mother\",\n",
    "    \"ayor\" : \"at your own risk\", \n",
    "    \"b&b\" : \"bed and breakfast\",\n",
    "    \"b+b\" : \"bed and breakfast\",\n",
    "    \"b.c\" : \"before christ\",\n",
    "    \"b2b\" : \"business to business\",\n",
    "    \"b2c\" : \"business to customer\",\n",
    "    \"b4\" : \"before\",\n",
    "    \"b4n\" : \"bye for now\",\n",
    "    \"b@u\" : \"back at you\",\n",
    "    \"bae\" : \"before anyone else\",\n",
    "    \"bak\" : \"back at keyboard\",\n",
    "    \"bbbg\" : \"bye bye be good\",\n",
    "    \"bbc\" : \"british broadcasting corporation\",\n",
    "    \"bbias\" : \"be back in a second\",\n",
    "    \"bbl\" : \"be back later\",\n",
    "    \"bbs\" : \"be back soon\",\n",
    "    \"be4\" : \"before\",\n",
    "    \"bfn\" : \"bye for now\",\n",
    "    \"blvd\" : \"boulevard\",\n",
    "    \"bout\" : \"about\",\n",
    "    \"brb\" : \"be right back\",\n",
    "    \"bros\" : \"brothers\",\n",
    "    \"brt\" : \"be right there\",\n",
    "    \"bsaaw\" : \"big smile and a wink\",\n",
    "    \"btw\" : \"by the way\",\n",
    "    \"bwl\" : \"bursting with laughter\",\n",
    "    \"c/o\" : \"care of\",\n",
    "    \"cet\" : \"central european time\",\n",
    "    \"cf\" : \"compare\",\n",
    "    \"cia\" : \"central intelligence agency\",\n",
    "    \"csl\" : \"can not stop laughing\",\n",
    "    \"cu\" : \"see you\",\n",
    "    \"cul8r\" : \"see you later\",\n",
    "    \"cv\" : \"curriculum vitae\",\n",
    "    \"cwot\" : \"complete waste of time\",\n",
    "    \"cya\" : \"see you\",\n",
    "    \"cyt\" : \"see you tomorrow\",\n",
    "    \"dae\" : \"does anyone else\",\n",
    "    \"dbmib\" : \"do not bother me i am busy\",\n",
    "    \"diy\" : \"do it yourself\",\n",
    "    \"dm\" : \"direct message\",\n",
    "    \"dwh\" : \"during work hours\",\n",
    "    \"e123\" : \"easy as one two three\",\n",
    "    \"eet\" : \"eastern european time\",\n",
    "    \"eg\" : \"example\",\n",
    "    \"embm\" : \"early morning business meeting\",\n",
    "    \"encl\" : \"enclosed\",\n",
    "    \"encl.\" : \"enclosed\",\n",
    "    \"etc\" : \"and so on\",\n",
    "    \"faq\" : \"frequently asked questions\",\n",
    "    \"fawc\" : \"for anyone who cares\",\n",
    "    \"fb\" : \"facebook\",\n",
    "    \"fc\" : \"fingers crossed\",\n",
    "    \"fig\" : \"figure\",\n",
    "    \"fimh\" : \"forever in my heart\", \n",
    "    \"ft.\" : \"feet\",\n",
    "    \"ft\" : \"featuring\",\n",
    "    \"ftl\" : \"for the loss\",\n",
    "    \"ftw\" : \"for the win\",\n",
    "    \"fwiw\" : \"for what it is worth\",\n",
    "    \"fyi\" : \"for your information\",\n",
    "    \"g9\" : \"genius\",\n",
    "    \"gahoy\" : \"get a hold of yourself\",\n",
    "    \"gal\" : \"get a life\",\n",
    "    \"gcse\" : \"general certificate of secondary education\",\n",
    "    \"gfn\" : \"gone for now\",\n",
    "    \"gg\" : \"good game\",\n",
    "    \"gl\" : \"good luck\",\n",
    "    \"glhf\" : \"good luck have fun\",\n",
    "    \"gmt\" : \"greenwich mean time\",\n",
    "    \"gmta\" : \"great minds think alike\",\n",
    "    \"gn\" : \"good night\",\n",
    "    \"g.o.a.t\" : \"greatest of all time\",\n",
    "    \"goat\" : \"greatest of all time\",\n",
    "    \"goi\" : \"get over it\",\n",
    "    \"gps\" : \"global positioning system\",\n",
    "    \"gr8\" : \"great\",\n",
    "    \"gratz\" : \"congratulations\",\n",
    "    \"gyal\" : \"girl\",\n",
    "    \"h&c\" : \"hot and cold\",\n",
    "    \"hp\" : \"horsepower\",\n",
    "    \"hr\" : \"hour\",\n",
    "    \"hrh\" : \"his royal highness\",\n",
    "    \"ht\" : \"height\",\n",
    "    \"ibrb\" : \"i will be right back\",\n",
    "    \"ic\" : \"i see\",\n",
    "    \"icq\" : \"i seek you\",\n",
    "    \"icymi\" : \"in case you missed it\",\n",
    "    \"idc\" : \"i do not care\",\n",
    "    \"idgadf\" : \"i do not give a damn fuck\",\n",
    "    \"idgaf\" : \"i do not give a fuck\",\n",
    "    \"idk\" : \"i do not know\",\n",
    "    \"ie\" : \"that is\",\n",
    "    \"i.e\" : \"that is\",\n",
    "    \"ifyp\" : \"i feel your pain\",\n",
    "    \"IG\" : \"instagram\",\n",
    "    \"iirc\" : \"if i remember correctly\",\n",
    "    \"ilu\" : \"i love you\",\n",
    "    \"ily\" : \"i love you\",\n",
    "    \"imho\" : \"in my humble opinion\",\n",
    "    \"imo\" : \"in my opinion\",\n",
    "    \"imu\" : \"i miss you\",\n",
    "    \"iow\" : \"in other words\",\n",
    "    \"irl\" : \"in real life\",\n",
    "    \"j4f\" : \"just for fun\",\n",
    "    \"jic\" : \"just in case\",\n",
    "    \"jk\" : \"just kidding\",\n",
    "    \"jsyk\" : \"just so you know\",\n",
    "    \"l8r\" : \"later\",\n",
    "    \"lb\" : \"pound\",\n",
    "    \"lbs\" : \"pounds\",\n",
    "    \"ldr\" : \"long distance relationship\",\n",
    "    \"lmao\" : \"laugh my ass off\",\n",
    "    \"lmfao\" : \"laugh my fucking ass off\",\n",
    "    \"lol\" : \"laughing out loud\",\n",
    "    \"ltd\" : \"limited\",\n",
    "    \"ltns\" : \"long time no see\",\n",
    "    \"m8\" : \"mate\",\n",
    "    \"mf\" : \"motherfucker\",\n",
    "    \"mfs\" : \"motherfuckers\",\n",
    "    \"mfw\" : \"my face when\",\n",
    "    \"mofo\" : \"motherfucker\",\n",
    "    \"mph\" : \"miles per hour\",\n",
    "    \"mr\" : \"mister\",\n",
    "    \"mrw\" : \"my reaction when\",\n",
    "    \"ms\" : \"miss\",\n",
    "    \"mte\" : \"my thoughts exactly\",\n",
    "    \"nagi\" : \"not a good idea\",\n",
    "    \"nbc\" : \"national broadcasting company\",\n",
    "    \"nbd\" : \"not big deal\",\n",
    "    \"nfs\" : \"not for sale\",\n",
    "    \"ngl\" : \"not going to lie\",\n",
    "    \"nhs\" : \"national health service\",\n",
    "    \"nrn\" : \"no reply necessary\",\n",
    "    \"nsfl\" : \"not safe for life\",\n",
    "    \"nsfw\" : \"not safe for work\",\n",
    "    \"nth\" : \"nice to have\",\n",
    "    \"nvr\" : \"never\",\n",
    "    \"nyc\" : \"new york city\",\n",
    "    \"oc\" : \"original content\",\n",
    "    \"og\" : \"original\",\n",
    "    \"ohp\" : \"overhead projector\",\n",
    "    \"oic\" : \"oh i see\",\n",
    "    \"omdb\" : \"over my dead body\",\n",
    "    \"omg\" : \"oh my god\",\n",
    "    \"omw\" : \"on my way\",\n",
    "    \"p.a\" : \"per annum\",\n",
    "    \"p.m\" : \"after midday\",\n",
    "    \"pm\" : \"prime minister\",\n",
    "    \"poc\" : \"people of color\",\n",
    "    \"pov\" : \"point of view\",\n",
    "    \"pp\" : \"pages\",\n",
    "    \"ppl\" : \"people\",\n",
    "    \"prw\" : \"parents are watching\",\n",
    "    \"ps\" : \"postscript\",\n",
    "    \"pt\" : \"point\",\n",
    "    \"ptb\" : \"please text back\",\n",
    "    \"pto\" : \"please turn over\",\n",
    "    \"qpsa\" : \"what happens\", \n",
    "    \"ratchet\" : \"rude\",\n",
    "    \"rbtl\" : \"read between the lines\",\n",
    "    \"rlrt\" : \"real life retweet\", \n",
    "    \"rofl\" : \"rolling on the floor laughing\",\n",
    "    \"roflol\" : \"rolling on the floor laughing out loud\",\n",
    "    \"rotflmao\" : \"rolling on the floor laughing my ass off\",\n",
    "    \"rt\" : \"retweet\",\n",
    "    \"ruok\" : \"are you ok\",\n",
    "    \"sfw\" : \"safe for work\",\n",
    "     \"sk8\" : \"skate\",\n",
    "    \"smh\" : \"shake my head\",\n",
    "    \"sq\" : \"square\",\n",
    "    \"srsly\" : \"seriously\", \n",
    "    \"ssdd\" : \"same stuff different day\",\n",
    "    \"tbh\" : \"to be honest\",\n",
    "    \"tbs\" : \"tablespooful\",\n",
    "    \"tbsp\" : \"tablespooful\",\n",
    "    \"tfw\" : \"that feeling when\",\n",
    "    \"thks\" : \"thank you\",\n",
    "    \"tho\" : \"though\",\n",
    "    \"thx\" : \"thank you\",\n",
    "    \"tia\" : \"thanks in advance\",\n",
    "    \"til\" : \"today i learned\",\n",
    "    \"tl;dr\" : \"too long i did not read\",\n",
    "    \"tldr\" : \"too long i did not read\",\n",
    "    \"tmb\" : \"tweet me back\",\n",
    "    \"tntl\" : \"trying not to laugh\",\n",
    "    \"ttyl\" : \"talk to you later\",\n",
    "    \"u\" : \"you\",\n",
    "    \"u2\" : \"you too\",\n",
    "    \"u4e\" : \"yours for ever\",\n",
    "    \"utc\" : \"coordinated universal time\",\n",
    "    \"w/\" : \"with\",\n",
    "    \"w/o\" : \"without\",\n",
    "    \"w8\" : \"wait\",\n",
    "    \"wassup\" : \"what is up\",\n",
    "    \"wb\" : \"welcome back\",\n",
    "    \"wtf\" : \"what the fuck\",\n",
    "    \"wtg\" : \"way to go\",\n",
    "    \"wtpa\" : \"where the party at\",\n",
    "    \"wuf\" : \"where are you from\",\n",
    "    \"wuzup\" : \"what is up\",\n",
    "    \"wywh\" : \"wish you were here\",\n",
    "    \"yd\" : \"yard\",\n",
    "    \"ygtr\" : \"you got that right\",\n",
    "    \"ynk\" : \"you never know\",\n",
    "    \"zzz\" : \"sleeping bored and tired\"\n",
    "}"
   ]
  },
  {
   "cell_type": "code",
   "execution_count": 9,
   "id": "2b4e7bf4",
   "metadata": {
    "execution": {
     "iopub.execute_input": "2023-01-09T11:19:40.872696Z",
     "iopub.status.busy": "2023-01-09T11:19:40.872225Z",
     "iopub.status.idle": "2023-01-09T11:19:40.878656Z",
     "shell.execute_reply": "2023-01-09T11:19:40.877143Z"
    },
    "papermill": {
     "duration": 0.019215,
     "end_time": "2023-01-09T11:19:40.881228",
     "exception": false,
     "start_time": "2023-01-09T11:19:40.862013",
     "status": "completed"
    },
    "tags": []
   },
   "outputs": [],
   "source": [
    "def expand_contractions(x):\n",
    "    if type(x) is str:\n",
    "        x = x.replace('\\\\','')\n",
    "        for key in contractions:\n",
    "            value = contractions[key]\n",
    "            x = x.replace(key, value)\n",
    "        return x\n",
    "    else:\n",
    "        return x"
   ]
  },
  {
   "cell_type": "code",
   "execution_count": 10,
   "id": "ff722b95",
   "metadata": {
    "execution": {
     "iopub.execute_input": "2023-01-09T11:19:40.901206Z",
     "iopub.status.busy": "2023-01-09T11:19:40.900792Z",
     "iopub.status.idle": "2023-01-09T11:19:40.907594Z",
     "shell.execute_reply": "2023-01-09T11:19:40.905802Z"
    },
    "papermill": {
     "duration": 0.021469,
     "end_time": "2023-01-09T11:19:40.911093",
     "exception": false,
     "start_time": "2023-01-09T11:19:40.889624",
     "status": "completed"
    },
    "tags": []
   },
   "outputs": [],
   "source": [
    "def expand_abbreviations(sentence):\n",
    "    final_words=[]\n",
    "    words=sentence.split()\n",
    "    final_words= [abbreviations[w.lower()] if w.lower() in abbreviations.keys() else w for w in words]\n",
    "    return \" \".join(final_words)"
   ]
  },
  {
   "cell_type": "code",
   "execution_count": 11,
   "id": "8cb48103",
   "metadata": {},
   "outputs": [
    {
     "name": "stderr",
     "output_type": "stream",
     "text": [
      "[nltk_data] Downloading package stopwords to\n",
      "[nltk_data]     C:\\Users\\ashif\\AppData\\Roaming\\nltk_data...\n",
      "[nltk_data]   Package stopwords is already up-to-date!\n"
     ]
    },
    {
     "data": {
      "text/plain": [
       "True"
      ]
     },
     "execution_count": 11,
     "metadata": {},
     "output_type": "execute_result"
    }
   ],
   "source": [
    "nltk.download('stopwords')"
   ]
  },
  {
   "cell_type": "code",
   "execution_count": 12,
   "id": "d7d3ad67",
   "metadata": {
    "execution": {
     "iopub.execute_input": "2023-01-09T11:19:40.931881Z",
     "iopub.status.busy": "2023-01-09T11:19:40.931484Z",
     "iopub.status.idle": "2023-01-09T11:19:51.439454Z",
     "shell.execute_reply": "2023-01-09T11:19:51.438207Z"
    },
    "papermill": {
     "duration": 10.521409,
     "end_time": "2023-01-09T11:19:51.442158",
     "exception": false,
     "start_time": "2023-01-09T11:19:40.920749",
     "status": "completed"
    },
    "tags": []
   },
   "outputs": [],
   "source": [
    "def clean_text(sentence):\n",
    "    sentence = sentence.lower()\n",
    "    \n",
    "    pattern = re.compile('http[s]?://(?:[a-zA-Z]|[0-9]|[$-_@.&+]|[!*\\(\\),]|(?:%[0-9a-fA-F][0-9a-fA-F]))+')\n",
    "    sentence = pattern.sub('', sentence)\n",
    "    sentence = \" \".join(filter(lambda x:x[0]!='@', sentence.split()))\n",
    "    emo = re.compile(\"[\"\n",
    "                           u\"\\U0001F600-\\U0001FFFF\"  \n",
    "                           u\"\\U0001F300-\\U0001F5FF\"  \n",
    "                           u\"\\U0001F680-\\U0001F6FF\"  \n",
    "                           u\"\\U0001F1E0-\\U0001F1FF\" \n",
    "                           u\"\\U00002702-\\U000027B0\"\n",
    "                           u\"\\U000024C2-\\U0001F251\"\n",
    "                           \"]+\", flags=re.UNICODE\n",
    "                    )\n",
    "    sentence = emo.sub(r'', sentence)\n",
    "    sentence = sentence.lower()\n",
    "    sentence = expand_contractions(sentence)\n",
    "    sentence = expand_abbreviations(sentence)\n",
    "    sentence = re.sub(r\"[,.\\\"\\'!@#$%^&*(){}?/;`~:<>+=-]\", \"\", sentence)\n",
    "    tokens = word_tokenize(sentence)\n",
    "    table = str.maketrans('', '', string.punctuation)\n",
    "    stripped = [w.translate(table) for w in tokens]\n",
    "    words = [word for word in stripped if word.isalpha()]\n",
    "    stop_words = set(stopwords.words(\"english\"))\n",
    "    words = [w for w in words if not w in stop_words]\n",
    "    return \" \".join(words)\n",
    "\n",
    "#applying clean_text function to all tweets from dataset\n",
    "df_tweets['cleaned_tweets'] = df_tweets['Tweet'].apply(lambda x: clean_text(x))"
   ]
  },
  {
   "cell_type": "markdown",
   "id": "54c39d6b",
   "metadata": {
    "papermill": {
     "duration": 0.007938,
     "end_time": "2023-01-09T11:19:51.458790",
     "exception": false,
     "start_time": "2023-01-09T11:19:51.450852",
     "status": "completed"
    },
    "tags": []
   },
   "source": [
    "## Web scrapping"
   ]
  },
  {
   "cell_type": "code",
   "execution_count": 13,
   "id": "6bc7577c",
   "metadata": {
    "execution": {
     "iopub.execute_input": "2023-01-09T11:19:51.477311Z",
     "iopub.status.busy": "2023-01-09T11:19:51.476870Z",
     "iopub.status.idle": "2023-01-09T11:20:05.473583Z",
     "shell.execute_reply": "2023-01-09T11:20:05.472051Z"
    },
    "papermill": {
     "duration": 14.009498,
     "end_time": "2023-01-09T11:20:05.476640",
     "exception": false,
     "start_time": "2023-01-09T11:19:51.467142",
     "status": "completed"
    },
    "tags": []
   },
   "outputs": [],
   "source": [
    "#pip install snscrape\n",
    "#pip install Tweepy"
   ]
  },
  {
   "cell_type": "code",
   "execution_count": 16,
   "id": "0d77093b",
   "metadata": {
    "execution": {
     "iopub.execute_input": "2023-01-09T11:20:05.496197Z",
     "iopub.status.busy": "2023-01-09T11:20:05.495763Z",
     "iopub.status.idle": "2023-01-09T11:20:06.672359Z",
     "shell.execute_reply": "2023-01-09T11:20:06.671116Z"
    },
    "papermill": {
     "duration": 1.189917,
     "end_time": "2023-01-09T11:20:06.675181",
     "exception": false,
     "start_time": "2023-01-09T11:20:05.485264",
     "status": "completed"
    },
    "tags": []
   },
   "outputs": [
    {
     "ename": "ModuleNotFoundError",
     "evalue": "No module named 'snscrape'",
     "output_type": "error",
     "traceback": [
      "\u001b[1;31m---------------------------------------------------------------------------\u001b[0m",
      "\u001b[1;31mModuleNotFoundError\u001b[0m                       Traceback (most recent call last)",
      "Cell \u001b[1;32mIn[16], line 1\u001b[0m\n\u001b[1;32m----> 1\u001b[0m \u001b[38;5;28;01mimport\u001b[39;00m \u001b[38;5;21;01msnscrape\u001b[39;00m\u001b[38;5;21;01m.\u001b[39;00m\u001b[38;5;21;01mmodules\u001b[39;00m\u001b[38;5;21;01m.\u001b[39;00m\u001b[38;5;21;01mtwitter\u001b[39;00m \u001b[38;5;28;01mas\u001b[39;00m \u001b[38;5;21;01msntwitter\u001b[39;00m\n\u001b[0;32m      2\u001b[0m \u001b[38;5;28;01mimport\u001b[39;00m \u001b[38;5;21;01mpandas\u001b[39;00m \u001b[38;5;28;01mas\u001b[39;00m \u001b[38;5;21;01mpd\u001b[39;00m\n\u001b[0;32m      3\u001b[0m tweet_data \u001b[38;5;241m=\u001b[39m []\n",
      "\u001b[1;31mModuleNotFoundError\u001b[0m: No module named 'snscrape'"
     ]
    }
   ],
   "source": [
    "import snscrape.modules.twitter as sntwitter\n",
    "import pandas as pd\n",
    "tweet_data = []\n",
    "words=\"FIFA\"\n",
    "number =  5 #int(input(\"No. of tweets you want to extract: \"))\n",
    "for i, tweets in enumerate(sntwitter.TwitterHashtagScraper(f'#{words} lang:en').get_items()):\n",
    "    if i > number:\n",
    "        break\n",
    "    tweet_data.append([tweets.content, tweets.username, tweets.date])\n",
    "df = pd.DataFrame(tweet_data, columns=['Tweets', 'Username', 'Date'])\n",
    "#print(df)\n",
    "filename = 'scraped_tweets_snscrape.csv'\n",
    "df.to_csv(filename, index = False)"
   ]
  },
  {
   "cell_type": "code",
   "execution_count": null,
   "id": "a4615ad8",
   "metadata": {
    "execution": {
     "iopub.execute_input": "2023-01-09T11:20:06.695418Z",
     "iopub.status.busy": "2023-01-09T11:20:06.694936Z",
     "iopub.status.idle": "2023-01-09T11:20:06.701980Z",
     "shell.execute_reply": "2023-01-09T11:20:06.700695Z"
    },
    "papermill": {
     "duration": 0.020566,
     "end_time": "2023-01-09T11:20:06.704630",
     "exception": false,
     "start_time": "2023-01-09T11:20:06.684064",
     "status": "completed"
    },
    "tags": []
   },
   "outputs": [],
   "source": [
    "# def scrape(words, date_since, numtweet):\n",
    "#         db = pd.DataFrame(columns=['username',\n",
    "#                                    'description',\n",
    "#                                    'location',\n",
    "#                                    'following',\n",
    "#                                    'followers',\n",
    "#                                    'totaltweets',\n",
    "#                                    'retweetcount',\n",
    "#                                    'text',\n",
    "#                                    'hashtags'])\n",
    "#         tweets = tweepy.Cursor(api.search_tweets,\n",
    "#                                words, lang=\"en\",\n",
    "#                                since_id=date_since,\n",
    "#                                tweet_mode='extended').items(numtweet)\n",
    "#         list_tweets = [tweet for tweet in tweets]\n",
    "#         i = 1\n",
    "#         for tweet in list_tweets:\n",
    "#                 username = tweet.user.screen_name\n",
    "#                 description = tweet.user.description\n",
    "#                 location = tweet.user.location\n",
    "#                 following = tweet.user.friends_count\n",
    "#                 followers = tweet.user.followers_count\n",
    "#                 totaltweets = tweet.user.statuses_count\n",
    "#                 retweetcount = tweet.retweet_count\n",
    "#                 hashtags = tweet.entities['hashtags']\n",
    "#                 try:\n",
    "#                         text = tweet.retweeted_status.full_text\n",
    "#                 except AttributeError:\n",
    "#                         text = tweet.full_text\n",
    "#                 hashtext = list()\n",
    "#                 for j in range(0, len(hashtags)):\n",
    "#                         hashtext.append(hashtags[j]['text'])\n",
    "#                 ith_tweet = [username, description,\n",
    "#                              location, following,\n",
    "#                              followers, totaltweets,\n",
    "#                              retweetcount, text, hashtext]\n",
    "#                 db.loc[len(db)] = ith_tweet\n",
    "#                 i = i+1\n",
    "#         filename = 'scraped_tweets_tweepy.csv'\n",
    "#         db.to_csv(filename)"
   ]
  },
  {
   "cell_type": "code",
   "execution_count": null,
   "id": "79a49010",
   "metadata": {
    "execution": {
     "iopub.execute_input": "2023-01-09T11:20:06.725848Z",
     "iopub.status.busy": "2023-01-09T11:20:06.725432Z",
     "iopub.status.idle": "2023-01-09T11:20:06.731034Z",
     "shell.execute_reply": "2023-01-09T11:20:06.728917Z"
    },
    "papermill": {
     "duration": 0.019337,
     "end_time": "2023-01-09T11:20:06.733718",
     "exception": false,
     "start_time": "2023-01-09T11:20:06.714381",
     "status": "completed"
    },
    "tags": []
   },
   "outputs": [],
   "source": [
    "# import tweepy\n",
    "# consumer_key = \n",
    "# consumer_secret = \n",
    "# access_key = \n",
    "# access_secret = \n",
    "# auth = tweepy.OAuthHandler(consumer_key, consumer_secret)\n",
    "# auth.set_access_token(access_key, access_secret)\n",
    "# api = tweepy.API(auth)\n",
    "# print(\"Enter Twitter HashTag to search for\")\n",
    "# words = input()\n",
    "# print(\"Enter Date since The Tweets are required in yyyy-mm--dd\")\n",
    "# date_since = input()\n",
    "# numtweet = 50\n",
    "# scrape(words, date_since, numtweet)\n",
    "# print('Scraping has completed!')"
   ]
  },
  {
   "cell_type": "markdown",
   "id": "10bae909",
   "metadata": {
    "papermill": {
     "duration": 0.00853,
     "end_time": "2023-01-09T11:20:06.751608",
     "exception": false,
     "start_time": "2023-01-09T11:20:06.743078",
     "status": "completed"
    },
    "tags": []
   },
   "source": [
    "## Applying Naive Bayes Algorithm"
   ]
  },
  {
   "cell_type": "code",
   "execution_count": null,
   "id": "1bb89086",
   "metadata": {
    "execution": {
     "iopub.execute_input": "2023-01-09T11:20:06.771630Z",
     "iopub.status.busy": "2023-01-09T11:20:06.770888Z",
     "iopub.status.idle": "2023-01-09T11:20:07.181537Z",
     "shell.execute_reply": "2023-01-09T11:20:07.180341Z"
    },
    "papermill": {
     "duration": 0.424137,
     "end_time": "2023-01-09T11:20:07.184412",
     "exception": false,
     "start_time": "2023-01-09T11:20:06.760275",
     "status": "completed"
    },
    "tags": []
   },
   "outputs": [],
   "source": [
    "from sklearn.model_selection import train_test_split # to split the dataset into \n",
    "from sklearn.feature_extraction.text import CountVectorizer\n",
    "from nltk.tokenize import RegexpTokenizer\n",
    "\n",
    "token = RegexpTokenizer(r'[a-zA-Z0-9]+') # tokenizer for CountVectorizer\n",
    "cv = CountVectorizer(stop_words='english',ngram_range = (1,1),tokenizer = token.tokenize) \n",
    "\n",
    "X = df_tweets['cleaned_tweets'] #  X variable\n",
    "Y = df_tweets['class'] # class/target variable\n",
    "train_text, test_text, Y_train, Y_test = train_test_split(X,Y, test_size = 0.2, random_state=42) # splitting the data\n",
    "\n",
    "X_train = cv.fit_transform(train_text.values.astype('U'))\n",
    "X_test = cv.transform(test_text.values.astype('U'))"
   ]
  },
  {
   "cell_type": "code",
   "execution_count": null,
   "id": "53f18f30",
   "metadata": {
    "execution": {
     "iopub.execute_input": "2023-01-09T11:20:07.204260Z",
     "iopub.status.busy": "2023-01-09T11:20:07.203801Z",
     "iopub.status.idle": "2023-01-09T11:20:07.233879Z",
     "shell.execute_reply": "2023-01-09T11:20:07.232314Z"
    },
    "papermill": {
     "duration": 0.0447,
     "end_time": "2023-01-09T11:20:07.237837",
     "exception": false,
     "start_time": "2023-01-09T11:20:07.193137",
     "status": "completed"
    },
    "tags": []
   },
   "outputs": [
    {
     "name": "stdout",
     "output_type": "stream",
     "text": [
      "Train accuracy = 79.50%\n",
      "Test accuracy = 67.26%\n"
     ]
    }
   ],
   "source": [
    "# importing the model from sci-kit learn\n",
    "from sklearn.naive_bayes import MultinomialNB \n",
    "\n",
    "#from math import *\n",
    "nb = MultinomialNB()\n",
    "nb.fit(X_train, Y_train)               \n",
    "print (\"Train accuracy = {:.2f}%\".format(nb.score(X_train,Y_train)*100))\n",
    "print (\"Test accuracy = {:.2f}%\".format(nb.score(X_test,Y_test)*100))\n",
    "train_acc_nb=nb.score(X_train,Y_train)\n",
    "test_acc_nb=nb.score(X_test,Y_test)\n",
    "\n",
    "#from sklearn.model_selection import cross_val_score\n",
    "#cross_nb = cross_val_score(nb, X, Y,n_jobs = -1)\n",
    "#print(\"Cross Validation score = \",cross_nb) "
   ]
  },
  {
   "cell_type": "code",
   "execution_count": null,
   "id": "6b77d1f5",
   "metadata": {
    "execution": {
     "iopub.execute_input": "2023-01-09T11:20:07.257977Z",
     "iopub.status.busy": "2023-01-09T11:20:07.257190Z",
     "iopub.status.idle": "2023-01-09T11:20:07.495297Z",
     "shell.execute_reply": "2023-01-09T11:20:07.493437Z"
    },
    "papermill": {
     "duration": 0.251438,
     "end_time": "2023-01-09T11:20:07.498308",
     "exception": false,
     "start_time": "2023-01-09T11:20:07.246870",
     "status": "completed"
    },
    "tags": []
   },
   "outputs": [
    {
     "data": {
      "image/png": "[encoded data removed]",
      "text/plain": [
       "<Figure size 432x288 with 1 Axes>"
      ]
     },
     "metadata": {
      "needs_background": "light"
     },
     "output_type": "display_data"
    }
   ],
   "source": [
    "#importing matplotlib to plot bar graph\n",
    "\n",
    "import matplotlib.pyplot as plt\n",
    "\n",
    "data_nb = [train_acc_nb,test_acc_nb]\n",
    "labels = ['Train Accuracy','Test Accuracy']\n",
    "\n",
    "plt.xticks([0,1], labels)\n",
    "plt.ylabel('Accuracy')\n",
    "plt.title('Accuracy plot with best parameters')\n",
    "plt.bar([0,1], data_nb, color=['blue','darkorange']) \n",
    "plt.show()"
   ]
  },
  {
   "cell_type": "markdown",
   "id": "86e522eb",
   "metadata": {
    "papermill": {
     "duration": 0.00853,
     "end_time": "2023-01-09T11:20:07.516549",
     "exception": false,
     "start_time": "2023-01-09T11:20:07.508019",
     "status": "completed"
    },
    "tags": []
   },
   "source": [
    "## Live data testing"
   ]
  },
  {
   "cell_type": "code",
   "execution_count": null,
   "id": "32cd7682",
   "metadata": {
    "execution": {
     "iopub.execute_input": "2023-01-09T11:20:07.536929Z",
     "iopub.status.busy": "2023-01-09T11:20:07.536504Z",
     "iopub.status.idle": "2023-01-09T11:20:07.552616Z",
     "shell.execute_reply": "2023-01-09T11:20:07.551328Z"
    },
    "papermill": {
     "duration": 0.029951,
     "end_time": "2023-01-09T11:20:07.555323",
     "exception": false,
     "start_time": "2023-01-09T11:20:07.525372",
     "status": "completed"
    },
    "tags": []
   },
   "outputs": [
    {
     "data": {
      "text/html": [
       "<div>\n",
       "<style scoped>\n",
       "    .dataframe tbody tr th:only-of-type {\n",
       "        vertical-align: middle;\n",
       "    }\n",
       "\n",
       "    .dataframe tbody tr th {\n",
       "        vertical-align: top;\n",
       "    }\n",
       "\n",
       "    .dataframe thead th {\n",
       "        text-align: right;\n",
       "    }\n",
       "</style>\n",
       "<table border=\"1\" class=\"dataframe\">\n",
       "  <thead>\n",
       "    <tr style=\"text-align: right;\">\n",
       "      <th></th>\n",
       "      <th>Tweets</th>\n",
       "      <th>Username</th>\n",
       "      <th>Date</th>\n",
       "    </tr>\n",
       "  </thead>\n",
       "  <tbody>\n",
       "    <tr>\n",
       "      <th>0</th>\n",
       "      <td>❤️❤️ Numbers Lovers! ❤️❤️\\n\\n🙌 10000 NFTs Mint...</td>\n",
       "      <td>Metro_NFTs</td>\n",
       "      <td>2023-01-09 11:17:09+00:00</td>\n",
       "    </tr>\n",
       "    <tr>\n",
       "      <th>1</th>\n",
       "      <td>S&amp;amp;P closes higher after Fed minutes confir...</td>\n",
       "      <td>CommoneyW</td>\n",
       "      <td>2023-01-09 11:09:31+00:00</td>\n",
       "    </tr>\n",
       "    <tr>\n",
       "      <th>2</th>\n",
       "      <td>$6.4M table game jackpot hits at Las Vegas Str...</td>\n",
       "      <td>WLysaght</td>\n",
       "      <td>2023-01-09 11:04:00+00:00</td>\n",
       "    </tr>\n",
       "    <tr>\n",
       "      <th>3</th>\n",
       "      <td>Nice Goal #football #Islamabad #Islamabad #FIF...</td>\n",
       "      <td>Just123Sports</td>\n",
       "      <td>2023-01-09 11:03:06+00:00</td>\n",
       "    </tr>\n",
       "    <tr>\n",
       "      <th>4</th>\n",
       "      <td>Bettor cashes parlay for more than $500K with ...</td>\n",
       "      <td>WLysaght</td>\n",
       "      <td>2023-01-09 11:01:01+00:00</td>\n",
       "    </tr>\n",
       "    <tr>\n",
       "      <th>5</th>\n",
       "      <td>📢 MatchDay\\n\\n🏆 | @LNDEsport1 eSerie D\\n🆚 | @e...</td>\n",
       "      <td>reghiumesports</td>\n",
       "      <td>2023-01-09 11:00:32+00:00</td>\n",
       "    </tr>\n",
       "  </tbody>\n",
       "</table>\n",
       "</div>"
      ],
      "text/plain": [
       "                                              Tweets        Username  \\\n",
       "0  ❤️❤️ Numbers Lovers! ❤️❤️\\n\\n🙌 10000 NFTs Mint...      Metro_NFTs   \n",
       "1  S&amp;P closes higher after Fed minutes confir...       CommoneyW   \n",
       "2  $6.4M table game jackpot hits at Las Vegas Str...        WLysaght   \n",
       "3  Nice Goal #football #Islamabad #Islamabad #FIF...   Just123Sports   \n",
       "4  Bettor cashes parlay for more than $500K with ...        WLysaght   \n",
       "5  📢 MatchDay\\n\\n🏆 | @LNDEsport1 eSerie D\\n🆚 | @e...  reghiumesports   \n",
       "\n",
       "                        Date  \n",
       "0  2023-01-09 11:17:09+00:00  \n",
       "1  2023-01-09 11:09:31+00:00  \n",
       "2  2023-01-09 11:04:00+00:00  \n",
       "3  2023-01-09 11:03:06+00:00  \n",
       "4  2023-01-09 11:01:01+00:00  \n",
       "5  2023-01-09 11:00:32+00:00  "
      ]
     },
     "execution_count": 18,
     "metadata": {},
     "output_type": "execute_result"
    }
   ],
   "source": [
    "# loading live data from saved file\n",
    "live_data = pd.read_csv('/kaggle/working/scraped_tweets_snscrape.csv')\n",
    "live_data.head(10)"
   ]
  },
  {
   "cell_type": "code",
   "execution_count": null,
   "id": "2405afec",
   "metadata": {
    "execution": {
     "iopub.execute_input": "2023-01-09T11:20:07.576455Z",
     "iopub.status.busy": "2023-01-09T11:20:07.575991Z",
     "iopub.status.idle": "2023-01-09T11:20:07.588303Z",
     "shell.execute_reply": "2023-01-09T11:20:07.587171Z"
    },
    "papermill": {
     "duration": 0.026328,
     "end_time": "2023-01-09T11:20:07.590994",
     "exception": false,
     "start_time": "2023-01-09T11:20:07.564666",
     "status": "completed"
    },
    "tags": []
   },
   "outputs": [
    {
     "data": {
      "text/html": [
       "<div>\n",
       "<style scoped>\n",
       "    .dataframe tbody tr th:only-of-type {\n",
       "        vertical-align: middle;\n",
       "    }\n",
       "\n",
       "    .dataframe tbody tr th {\n",
       "        vertical-align: top;\n",
       "    }\n",
       "\n",
       "    .dataframe thead th {\n",
       "        text-align: right;\n",
       "    }\n",
       "</style>\n",
       "<table border=\"1\" class=\"dataframe\">\n",
       "  <thead>\n",
       "    <tr style=\"text-align: right;\">\n",
       "      <th></th>\n",
       "      <th>Tweets</th>\n",
       "    </tr>\n",
       "  </thead>\n",
       "  <tbody>\n",
       "    <tr>\n",
       "      <th>0</th>\n",
       "      <td>❤️❤️ Numbers Lovers! ❤️❤️\\n\\n🙌 10000 NFTs Mint...</td>\n",
       "    </tr>\n",
       "    <tr>\n",
       "      <th>1</th>\n",
       "      <td>S&amp;amp;P closes higher after Fed minutes confir...</td>\n",
       "    </tr>\n",
       "    <tr>\n",
       "      <th>2</th>\n",
       "      <td>$6.4M table game jackpot hits at Las Vegas Str...</td>\n",
       "    </tr>\n",
       "    <tr>\n",
       "      <th>3</th>\n",
       "      <td>Nice Goal #football #Islamabad #Islamabad #FIF...</td>\n",
       "    </tr>\n",
       "    <tr>\n",
       "      <th>4</th>\n",
       "      <td>Bettor cashes parlay for more than $500K with ...</td>\n",
       "    </tr>\n",
       "    <tr>\n",
       "      <th>5</th>\n",
       "      <td>📢 MatchDay\\n\\n🏆 | @LNDEsport1 eSerie D\\n🆚 | @e...</td>\n",
       "    </tr>\n",
       "  </tbody>\n",
       "</table>\n",
       "</div>"
      ],
      "text/plain": [
       "                                              Tweets\n",
       "0  ❤️❤️ Numbers Lovers! ❤️❤️\\n\\n🙌 10000 NFTs Mint...\n",
       "1  S&amp;P closes higher after Fed minutes confir...\n",
       "2  $6.4M table game jackpot hits at Las Vegas Str...\n",
       "3  Nice Goal #football #Islamabad #Islamabad #FIF...\n",
       "4  Bettor cashes parlay for more than $500K with ...\n",
       "5  📢 MatchDay\\n\\n🏆 | @LNDEsport1 eSerie D\\n🆚 | @e..."
      ]
     },
     "execution_count": 19,
     "metadata": {},
     "output_type": "execute_result"
    }
   ],
   "source": [
    "live_data.drop(columns = ['Username', 'Date'])\n",
    "# i = 0\n",
    "# for tweet in live_data.Tweets:\n",
    "#     print(\"Tweet\", i, \":\")\n",
    "#     print(tweet)\n",
    "#     i += 1\n",
    "#     print()"
   ]
  },
  {
   "cell_type": "code",
   "execution_count": null,
   "id": "1a556249",
   "metadata": {
    "execution": {
     "iopub.execute_input": "2023-01-09T11:20:07.611869Z",
     "iopub.status.busy": "2023-01-09T11:20:07.611463Z",
     "iopub.status.idle": "2023-01-09T11:20:07.623217Z",
     "shell.execute_reply": "2023-01-09T11:20:07.621803Z"
    },
    "papermill": {
     "duration": 0.025327,
     "end_time": "2023-01-09T11:20:07.625862",
     "exception": false,
     "start_time": "2023-01-09T11:20:07.600535",
     "status": "completed"
    },
    "tags": []
   },
   "outputs": [],
   "source": [
    "#cleaning the live data\n",
    "live_data['cleaned_tweets'] = live_data.Tweets.apply(lambda x: clean_text(x))"
   ]
  },
  {
   "cell_type": "code",
   "execution_count": null,
   "id": "2aca8ece",
   "metadata": {
    "execution": {
     "iopub.execute_input": "2023-01-09T11:20:07.648107Z",
     "iopub.status.busy": "2023-01-09T11:20:07.647686Z",
     "iopub.status.idle": "2023-01-09T11:20:07.652694Z",
     "shell.execute_reply": "2023-01-09T11:20:07.651441Z"
    },
    "papermill": {
     "duration": 0.020412,
     "end_time": "2023-01-09T11:20:07.656120",
     "exception": false,
     "start_time": "2023-01-09T11:20:07.635708",
     "status": "completed"
    },
    "tags": []
   },
   "outputs": [],
   "source": [
    "# i = 0\n",
    "# for tweet in live_data.cleaned_tweets:\n",
    "#     print(\"Tweet\", i, \":\")\n",
    "#     print(tweet)\n",
    "#     i += 1\n",
    "#     print()"
   ]
  },
  {
   "cell_type": "code",
   "execution_count": null,
   "id": "5d31beba",
   "metadata": {
    "execution": {
     "iopub.execute_input": "2023-01-09T11:20:07.677389Z",
     "iopub.status.busy": "2023-01-09T11:20:07.676901Z",
     "iopub.status.idle": "2023-01-09T11:20:07.684189Z",
     "shell.execute_reply": "2023-01-09T11:20:07.683002Z"
    },
    "papermill": {
     "duration": 0.020962,
     "end_time": "2023-01-09T11:20:07.687053",
     "exception": false,
     "start_time": "2023-01-09T11:20:07.666091",
     "status": "completed"
    },
    "tags": []
   },
   "outputs": [],
   "source": [
    "# Modelling the live data\n",
    "live_input = cv.transform(live_data['cleaned_tweets'].values.astype('U'))\n",
    "live_predictions = nb.predict(live_input)"
   ]
  },
  {
   "cell_type": "code",
   "execution_count": null,
   "id": "e99e5465",
   "metadata": {
    "execution": {
     "iopub.execute_input": "2023-01-09T11:20:07.709190Z",
     "iopub.status.busy": "2023-01-09T11:20:07.708715Z",
     "iopub.status.idle": "2023-01-09T11:20:07.717490Z",
     "shell.execute_reply": "2023-01-09T11:20:07.716054Z"
    },
    "papermill": {
     "duration": 0.023949,
     "end_time": "2023-01-09T11:20:07.721053",
     "exception": false,
     "start_time": "2023-01-09T11:20:07.697104",
     "status": "completed"
    },
    "tags": []
   },
   "outputs": [
    {
     "name": "stdout",
     "output_type": "stream",
     "text": [
      "Original Tweet\n",
      "❤️❤️ Numbers Lovers! ❤️❤️\n",
      "\n",
      "🙌 10000 NFTs Minted\n",
      "#metaverse\n",
      "💰Sale is live ⤵️\n",
      "\n",
      "https://t.co/VNmShkKOGe\n",
      "\n",
      "#Numbers #QatarWorldCup2022\n",
      "#WorldCup #FreeMint\n",
      "#FreeNFTs #NFTs\n",
      "#shiba\n",
      "#FIFA #Solana #Numbers\n",
      "#MATIC #Polygon https://t.co/J7qTMlUBCl\n",
      "\n",
      "Cleaned Tweet\n",
      "numbers lovers nfts minted metaverse sale live numbers worldcup freemint freenfts nfts shiba fifa solana numbers matic polygon\n",
      "\n",
      "Prediction: Neutral\n",
      "Original Tweet\n",
      "S&amp;P closes higher after Fed minutes confirm inflation focus https://t.co/k74AuoLce8 #sports #football #baseball #basketball #sports #news #news #breaking #news #fifa #soccer\n",
      "\n",
      "Cleaned Tweet\n",
      "sampp closes higher fed minutes confirm inflation focus sports football baseball basketball sports news news breaking news fifa soccer\n",
      "\n",
      "Prediction: Negative\n",
      "Original Tweet\n",
      "$6.4M table game jackpot hits at Las Vegas Strip casino https://t.co/5BCQIblQ7C \n",
      "#LasVegas\n",
      "#SportsBetting\n",
      "#Raiders\n",
      "#VegasGoldenKnights\n",
      "#WorldCup\n",
      "#FIFA\n",
      "#FORMULAR1\n",
      "\n",
      "Cleaned Tweet\n",
      "table game jackpot hits las vegas strip casino lasvegas sportsbetting raiders vegasgoldenknights worldcup fifa\n",
      "\n",
      "Prediction: Positive\n",
      "Original Tweet\n",
      "Nice Goal #football #Islamabad #Islamabad #FIFA #sports #KarachiEat https://t.co/YozrS6ntZO\n",
      "\n",
      "Cleaned Tweet\n",
      "nice goal football islamabad islamabad fifa sports karachieat\n",
      "\n",
      "Prediction: Positive\n",
      "Original Tweet\n",
      "Bettor cashes parlay for more than $500K with Bills cover https://t.co/iDk6XI24LA \n",
      "#LasVegas\n",
      "#SportsBetting\n",
      "#Raiders\n",
      "#VegasGoldenKnights\n",
      "#WorldCup\n",
      "#FIFA\n",
      "#FORMULAR1\n",
      "\n",
      "Cleaned Tweet\n",
      "bettor cashes parlay bills cover lasvegas sportsbetting raiders vegasgoldenknights worldcup fifa\n",
      "\n",
      "Prediction: Neutral\n",
      "Original Tweet\n",
      "📢 MatchDay\n",
      "\n",
      "🏆 | @LNDEsport1 eSerie D\n",
      "🆚 | @eMetaCatania\n",
      "📆 | 7️⃣ Giornata\n",
      "\n",
      "🤝@uslivorno1915\n",
      "\n",
      "#UnioneSportivaLivorno #fifa #eseried #lnd #proclub #fifaproclub https://t.co/iV0k3VBgWw\n",
      "\n",
      "Cleaned Tweet\n",
      "matchday eserie giornata unionesportivalivorno fifa eseried lnd proclub fifaproclub\n",
      "\n",
      "Prediction: Neutral\n"
     ]
    }
   ],
   "source": [
    "#Printing predictions\n",
    "for i in range(len(live_predictions)):\n",
    "    print(\"Original Tweet\")\n",
    "    print(live_data.Tweets[i], end = '\\n\\n')\n",
    "    print('Cleaned Tweet')\n",
    "    print(live_data.cleaned_tweets[i], end = '\\n\\n')\n",
    "    if(live_predictions[i] == 0):\n",
    "        print(\"Prediction: Negative\")\n",
    "    elif(live_predictions[i] == 1):\n",
    "        print(\"Prediction: Neutral\")\n",
    "    else:\n",
    "        print(\"Prediction: Positive\")"
   ]
  }
 ],
 "metadata": {
  "kernelspec": {
   "display_name": "Python 3",
   "language": "python",
   "name": "python3"
  },
  "language_info": {
   "codemirror_mode": {
    "name": "ipython",
    "version": 3
   },
   "file_extension": ".py",
   "mimetype": "text/x-python",
   "name": "python",
   "nbconvert_exporter": "python",
   "pygments_lexer": "ipython3",
   "version": "3.11.4"
  },
  "papermill": {
   "default_parameters": {},
   "duration": 40.400697,
   "end_time": "2023-01-09T11:20:08.656200",
   "environment_variables": {},
   "exception": null,
   "input_path": "__notebook__.ipynb",
   "output_path": "__notebook__.ipynb",
   "parameters": {},
   "start_time": "2023-01-09T11:19:28.255503",
   "version": "2.3.4"
  }
 },
 "nbformat": 4,
 "nbformat_minor": 5
}
